{
  "nbformat": 4,
  "nbformat_minor": 0,
  "metadata": {
    "colab": {
      "name": "PROYECTO FINAL ANALISIS NUMERICO.ipynb",
      "provenance": [],
      "collapsed_sections": [
        "51MUbef1vvvO",
        "1QoJ1VjN26ND",
        "5e-orcQM4ILV",
        "gyCDsywn29r-",
        "qKmSdVBLg5jj",
        "621Bkr5cFOef",
        "lqPY4RzRuoNa",
        "2lkIowTJ9h8V",
        "4YmRU40xMlNw",
        "L4n3Mci6UWIq"
      ],
      "toc_visible": true,
      "authorship_tag": "ABX9TyMR682MOvfHHwHqMK+kk4a9",
      "include_colab_link": true
    },
    "kernelspec": {
      "name": "python3",
      "display_name": "Python 3"
    }
  },
  "cells": [
    {
      "cell_type": "markdown",
      "metadata": {
        "id": "view-in-github",
        "colab_type": "text"
      },
      "source": [
        "<a href=\"https://colab.research.google.com/github/IORIALE/RECURSOS-PROYECTO-NUMERICO/blob/main/PROYECTO_FINAL_ANALISIS_NUMERICO.ipynb\" target=\"_parent\"><img src=\"https://colab.research.google.com/assets/colab-badge.svg\" alt=\"Open In Colab\"/></a>"
      ]
    },
    {
      "cell_type": "markdown",
      "metadata": {
        "id": "Zo95XXCX0fzw"
      },
      "source": [
        "<font color=\"Teal\" face=\"Comic Sans MS,arial\">\r\n",
        "  <h1 align=\"center\"><i>PROYECTO FINAL</i></h1>\r\n",
        "  </font>\r\n",
        "  <font color=\"Black\" face=\"Comic Sans MS,arial\">\r\n",
        "  <h5 align=\"center\"><i>Alumno: Almaraz Garcia Iori Alejandro</i></h5>\r\n",
        "    <h5 align=\"center\"><i>N. Cuenta: 316297183</i></h5>\r\n",
        "  <h5 align=\"center\"><i>Materia: Análisis Numérico.</i></h5>\r\n",
        "  </font>"
      ]
    },
    {
      "cell_type": "markdown",
      "metadata": {
        "id": "v5SSx7rsGqUe"
      },
      "source": [
        "<div align=\"center\"><img src=\"https://github.com/IORIALE/RECURSOS-PROYECTO-NUMERICO/blob/main/DIAGRAMA%20METODOS%20NUMERICOS.png?raw=1\" width=\"700\" > "
      ]
    },
    {
      "cell_type": "markdown",
      "metadata": {
        "id": "51MUbef1vvvO"
      },
      "source": [
        "##RESUMEN\r\n"
      ]
    },
    {
      "cell_type": "markdown",
      "metadata": {
        "id": "Vqbd3u15yg7Q"
      },
      "source": [
        "Actualmente en el 2020 tenemos que muchas \"micro/macro \"empresas a causa de la pandemia han que perdido toda estructura tanto moral,economica y  sistematica  llegando a tal punto que muchas de estas empresas han despedido a sus empleados.\r\n",
        "\r\n",
        "Mi idea para  realizar este proyecto es para poder  ayudar a una empresa de autos  ficticia que apenas esta saliendo a flote y que quiere saber como le va a ir al final de un año, quiere aumentar sus recursos,disminuir costos y tener mejor publicidad.\r\n",
        "\r\n",
        "Nosotros ayudaremos con nuestro conocimientos de analisis numerico y otras materias a poder hacer que la empresa reciba mejor desarrollo, ver con que cosas cuenta y con que cosas contara en un futuro.\r\n",
        "\r\n",
        "\r\n",
        "El objetivo es que muchas empresas especialmente las microempresas puedan tomar este esquema de trabajo y asi tener una mejor estructura a nivel empresarial.\r\n",
        "\r\n",
        "Las herramientas que ocuparemos  para hacer nuestro analisis logistico de la empresa  seran:\r\n",
        "\r\n",
        "$\\cdot Minimos Cuadrados$\r\n",
        "\r\n",
        "$\\cdot Factorizacion Matricial$\r\n",
        "\r\n",
        "$\\cdot (ML)Regresion Lineal Multiple$\r\n",
        "\r\n",
        "$\\cdot Metodo Simplex (IDO)$\r\n",
        "\r\n",
        "$\\cdot Problema de Transporte(IDO)$\r\n",
        "\r\n",
        "$\\cdot ML: Machine  \\quad Learning$\r\n",
        "\r\n",
        "\r\n",
        "Lo que pretendemos obtener como resultado es que la empresa pueda observar su estabilidad como sociedad anonima en base a predicciones o su situacion actual.\r\n",
        "\r\n"
      ]
    },
    {
      "cell_type": "markdown",
      "metadata": {
        "id": "KxYhD5fiyzzA"
      },
      "source": [
        "<div align=\"center\"><img src=\"https://github.com/IORIALE/RECURSOS-PROYECTO-NUMERICO/blob/main/predicciones.jpeg?raw=1\" width=\"500\" > \r\n",
        "\r\n",
        "\r\n"
      ]
    },
    {
      "cell_type": "markdown",
      "metadata": {
        "id": "1QoJ1VjN26ND"
      },
      "source": [
        "# MARCO TEORICO"
      ]
    },
    {
      "cell_type": "markdown",
      "metadata": {
        "id": "WWfDY45dgWMI"
      },
      "source": [
        "##Factorizacion Matricial\r\n",
        "\r\n",
        "Este fue uno de los primeros temas y uno de las temas que más peso tiene dentro del curso, en este caso se pretende usar la factorización matricial para resolver las fallas o errores que algunos departamentales o administrativos tengan a la hora de filtrar información basica de precios o costos."
      ]
    },
    {
      "cell_type": "markdown",
      "metadata": {
        "id": "LzbhBMvR5dFV"
      },
      "source": [
        "##Metodo Simplex\r\n",
        "\r\n",
        "El metodo símplex se utiliza para hallar las soluciones óptimas de un problema de programación lineal con tres o más variables. Es un procedimiento iterativo de programación lineal que va desechando las soluciones no factibles y, en cada paso, evalúa si la solución obtenida es óptima o no.\r\n",
        "\r\n",
        "Este metodo nos ayudara para la construcción sistemas de ecuaciones para la empresa pueda sostener sus gastos, satisfacer la demanda y obtener los mejores productos posibles a sus clientes.\r\n"
      ]
    },
    {
      "cell_type": "markdown",
      "metadata": {
        "id": "5e-orcQM4ILV"
      },
      "source": [
        "##Regresion lineal multiple\r\n",
        "\r\n"
      ]
    },
    {
      "cell_type": "markdown",
      "metadata": {
        "id": "nf6ZiBA94UJB"
      },
      "source": [
        "El objetivo del análisis de regresión como método causal es pronosticar la demanda a partir de una o más causas (variables independientes), las cuales pueden ser por ejemplo el tiempo, precios del producto o servicio, precios de la competencia, economía del país, acciones del gobierno o fomentos publicitarios.\r\n",
        "\r\n",
        "En este caso nosotros pronosticaremos que es lo que puede pasar a traves del tiempo para  la empresa y si es posible que llegue a la quiebra o se mantenga dentro del mercado.\r\n",
        "\r\n",
        "vamos a generalizar todo el estudio que hemos hecho para la regresión lineal simple al caso en que tengamos $k$ variables de control $X_1,X_2,\\cdots,X_k$. Es decir, una variable dependiente $Y$ y $k$ variables de control (si se tienen al menos dos variables dependientes, en la práctica lo que se hace es establecer al menos dos modelos: uno por variable dependiente).\r\n",
        "\r\n",
        "Suponemos ahora que nuestro modelo es de la forma $$\\mu_{Y|x_1,x_2,...,x_k}=\\beta_0+\\beta_1x_1+\\beta_2x_2+\\cdots+\\beta_kx_k.$$ \r\n",
        "\r\n",
        "Los valores $\\beta_0,\\beta_1,...,\\beta_k$ son los llamados parámetros de la regresión y se tienen que estimar a partir de una muestra las variables consideradas: $\\{(x_{i1},x_{i2},...,x_{ik},y_i)\\}_{i=1}^n$.\r\n",
        "\r\n",
        "Para que estas estimaciones se pueden realizar hay que suponer que $n>k$ ya que en caso contrario tendríamos un problema subestimado: tendríamos más parámetros que valores en la muestra.\r\n",
        "\r\n",
        "Denotamos por $\\boldsymbol{x_i}$ a los valores de las $k$ variables independientes correspondientes al $i$-ésimo elemento de la muestra. Esto es: $\\boldsymbol{x_i}=(x_{i1},x_{i2},\\cdots,x_{ik})$.\r\n",
        "\r\n",
        "Escribimos el modelo de la siguiente manera: $$Y=\\beta_0+\\beta_1X_1+...+X_k\\beta_k+E_\\boldsymbol{X_i}.$$\r\n",
        "\r\n",
        "A partir de la muestra $\\{(\\boldsymbol{x_i},y_i)\\}_{i=1}^n$ vamos a obtener estimaciones $b_0,b_1,\\cdots,b_k$ para los parámetros $\\beta_1,\\beta_2,\\cdots,\\beta_k$.\r\n",
        "\r\n",
        "Una vez obtenidas estas estimaciones, podemos definir los valores siguientes:\r\n",
        "\r\n",
        "$$\\begin{array}{l}\\widehat{y_i}=b_0+b_1x_{i1}+...+b_kx_{ik},\\\\y_i=b_0+b_1x_{i1}+...+b_kx_{ik}+e_i\\end{array}$$\r\n",
        "\r\n",
        "Para simplificar la notación, escribimos los datos de la muestra en forma matricial. En primer lugar, definimos los vectores siguientes:\r\n",
        "\r\n",
        "$$\\boldsymbol{y}=\\left(\\begin{array}{c}y_1\\\\y_2\\\\\\vdots\\\\y_n\\end{array}\\right),\\,\\boldsymbol{b}=\\left(\\begin{array}{c}b_0\\\\b_1\\\\\\vdots\\\\b_k\\end{array}\\right),\\,\\boldsymbol{\\widehat{y}}=\\left(\\begin{array}{c}\\widehat{y_1}\\\\\\widehat{y_2}\\\\\\vdots\\\\\\widehat{y_n}\\end{array}\\right),\\,\\boldsymbol{e}=\\left(\\begin{array}{c}e_1\\\\e_2\\\\\\vdots\\\\e_n\\end{array}\\right),\\,$$\r\n",
        "\r\n",
        "\r\n",
        "Definimos $\\boldsymbol{\\mathrm{X}}$ a partir de los datos de la muestra de las variables $\\boldsymbol{X}_i$:\r\n",
        "$$\\boldsymbol{\\mathrm{X}}=\\left(\\begin{array}{ccccc}1&x_{11}&x_{12}&\\cdots&x_{1k}\\\\1&x_{21}&x_{22}&\\cdots&x_{2k}\\\\\\vdots&\\vdots&\\vdots&\\vdots&\\vdots\\\\1&x_{n1}&x_{n2}&\\cdots&x_{nk}\\end{array}\\right)$$\r\n",
        "\r\n",
        "Por lo tanto $\\boldsymbol{\\widehat{y}}=\\boldsymbol{\\mathrm{X}}\\boldsymbol{b}$ y $\\boldsymbol{y}=\\boldsymbol{\\mathrm{X}\\boldsymbol{b}}+\\boldsymbol{e}$."
      ]
    },
    {
      "cell_type": "markdown",
      "metadata": {
        "id": "gyCDsywn29r-"
      },
      "source": [
        "##Minimos cuadrados"
      ]
    },
    {
      "cell_type": "markdown",
      "metadata": {
        "id": "Ix_Kj2HU4W18"
      },
      "source": [
        "El estos problemas se nos da una serie de puntos y lo que nosotros debemos de encontrar es una recta que encaje con todos los puntos , es decir, que la distancia entre la recta y el punto sea el minimo.\r\n",
        "\r\n",
        "En este caso este metodo nos ayudara para poder ver que tan eficiente ha sido su departamento de publicidad en las redes sociales  y ver  si en un futuro se esperan más clientes.\r\n",
        "\r\n",
        "el método para hallar las estimaciones $b_0$ y $b_1$. Dicho métrodo se conoce como **mínimos cuadrados**.\r\n",
        "\r\n",
        "Dada una observación cualquiera de la muestra, $(x_i,y_i)$, podremos separar la componente $y_i$ como la suma de su valor predicho por el modelo y el error cometido: $$y_i=\\beta_0+\\beta_1x_i+\\epsilon_i,\\,\\mbox{de donde }\\epsilon_i=y_i-(\\beta_0+\\beta_1x_i).$$\r\n",
        "\r\n",
        "Llamamos **error cuadrático teórico** de este modelo a la suma al cuadrado de todos los errores cometidos por los valores de la muestra: $$SS_E=\\sum_{i=1}^n\\epsilon_i^2=\\sum_{i=1}^n(y_i-(\\beta_0+\\beta_1x_i))^2$$\r\n",
        "\r\n"
      ]
    },
    {
      "cell_type": "markdown",
      "metadata": {
        "id": "VX84V3K3aGKY"
      },
      "source": [
        "##Problema de transporte"
      ]
    },
    {
      "cell_type": "markdown",
      "metadata": {
        "id": "zmPIo-UeaI9B"
      },
      "source": [
        "El problema de transporte consiste en envio de mercancias desde un origen hacia un destino\r\n",
        "\r\n",
        "Lo que queremos es minimizar el costo de estos envios pero teniendo como restricciones la capacidad de produccion de los origenes y la demanda de nuestros destinos."
      ]
    },
    {
      "cell_type": "markdown",
      "metadata": {
        "id": "UVMvR936aPIZ"
      },
      "source": [
        "<div align=\"center\"><img src=\"https://github.com/IORIALE/RECURSOS-IDO/blob/main/modelo%20de%20transporte.png?raw=1\" width=\"700\" > "
      ]
    },
    {
      "cell_type": "markdown",
      "metadata": {
        "id": "x4teN2SoCGI2"
      },
      "source": [
        "#APLICACION (DESARROLLO)\r\n",
        "Empezaremos con Examinar la publicidad de la empresa en redes sociales y  esto lo vamos a medir con las reacciones que sus publicaciones tienen."
      ]
    },
    {
      "cell_type": "markdown",
      "metadata": {
        "id": "qKmSdVBLg5jj"
      },
      "source": [
        "##Factorización Matricial(FALLAS DEL PERSONAL)"
      ]
    },
    {
      "cell_type": "markdown",
      "metadata": {
        "id": "jZUiUY4shJ3Z"
      },
      "source": [
        "La empresa vende 3 tipos de coches especiales, coches tipo A, coches tipo B, coches tipo C, se perdio \r\n",
        "cuanto costaban cada coche pero gracias a   3 facturas de  clientes deluxe  podremos  obtener \r\n",
        "que precio tenia cada coche, por lo cual formularemos un sistema de 3 ecuaciones con 3 incognitas \r\n",
        "para poder obtener la información deseada:\r\n",
        "\r\n",
        "\r\n",
        "$$2A+3B-C= 9,568,380$$ \r\n",
        "$$3A+5B-6C=14,432,560$$\r\n",
        "$$4A+4B-3C=12,380,568$$\r\n",
        "\r\n",
        "Donde:\r\n",
        "\r\n",
        "A= Precio de  coche tipo A\r\n",
        "\r\n",
        "B= Precio de coche tipo B\r\n",
        "\r\n",
        "C= Precio de coche tipo C\r\n",
        "\r\n",
        "En base a la información de facturas anteriores queremos saber cual es el respectivo precio de cada coche."
      ]
    },
    {
      "cell_type": "markdown",
      "metadata": {
        "id": "HZjEQiT5iUyN"
      },
      "source": [
        "###SOLUCION"
      ]
    },
    {
      "cell_type": "code",
      "metadata": {
        "id": "LQzsr9jViQvT"
      },
      "source": [
        "import numpy as np\r\n",
        "from math import sqrt\r\n",
        "\r\n",
        "## ESTO LO HICIMOS EN EL PARCIAL 3\r\n",
        "\r\n",
        "def factQR(A):\r\n",
        "    m, n = A.shape\r\n",
        "    Q = np.zeros((m, n))\r\n",
        "    R = np.zeros((n, n))\r\n",
        "    A=np.transpose(A)\r\n",
        "    R[0][0]=np.linalg.norm(A[0], 2)\r\n",
        "    Q[:,0]=A[0]/R[0][0]\r\n",
        "    for i in range(1,n):\r\n",
        "        Q[:,i]=A[i]\r\n",
        "        for j in range(0,i):\r\n",
        "            R[j][i]=np.matmul(Q[:,j], Q[:,i])\r\n",
        "            Q[:,i]=Q[:,i]-(R[j][i] * Q[:,j])\r\n",
        "        R[i][i]=np.linalg.norm(Q[:,i], 2)\r\n",
        "        Q[:,i]=Q[:,i]/R[i][i]\r\n",
        "    return Q, R\r\n",
        "\r\n",
        "\r\n",
        "# algoritmo para sustitucion hacia atras\r\n",
        "# n es el tamano de la dimension del problema\r\n",
        "# matriz U, vector y ya estan dados como parametros\r\n",
        "# guardar los resultados en el vector x\r\n",
        "# Ux=y\r\n",
        "def sustAtras(U, y):\r\n",
        "    n=len(U)\r\n",
        "    x=np.empty_like(y)\r\n",
        "    x[n-1] = y[n-1]/U[n-1][n-1]\r\n",
        "    for i in range(n-2,-1,-1):\r\n",
        "        x[i] = y[i]\r\n",
        "        for j in range(i+1,n):\r\n",
        "            x[i] -= U[i][j]*x[j]\r\n",
        "        x[i] /= U[i][i]\r\n",
        "    return x\r\n",
        "\r\n",
        "def solver(A,b):\r\n",
        "    # llamar funcion de descomposicion LU para obtener/llenar matrices Q,R\r\n",
        "    Q,R=factQR(A) \r\n",
        "    # nuevo vector b'\r\n",
        "    nuevob = np.matmul(Q.T, b)  \r\n",
        "    # llamar funcion sustAtras para obtener/llenar vector x \r\n",
        "    # solucion aproximada/calculada\r\n",
        "    x = sustAtras(R,nuevob)\r\n",
        "    # imprimir solucion aproximada/calculada\r\n",
        "    return x\r\n",
        "\r\n",
        "\r\n",
        "\r\n"
      ],
      "execution_count": null,
      "outputs": []
    },
    {
      "cell_type": "code",
      "metadata": {
        "colab": {
          "base_uri": "https://localhost:8080/"
        },
        "id": "xxBGcG9Sm_gX",
        "outputId": "956b2259-ac6d-4acf-b47a-63e9e64305b0"
      },
      "source": [
        "### CON AYUDA DEL PODEROSO NUMPY \r\n",
        "\r\n",
        "## Ahora definimos nuestra matriz\r\n",
        "\r\n",
        "A = np.array([[2,3,-1],[3,5,-6],[4,4,-3]])\r\n",
        "b= np.array([[9568380],[14432560],[12380568]])\r\n",
        "\r\n",
        "# funcion de numpy encargada de la factorizacion QR\r\n",
        "Q,R = np.linalg.qr(A)\r\n",
        "\r\n",
        "# comprobacion con numpy\r\n",
        "x = np.linalg.solve(A,b)\r\n",
        "print(x)"
      ],
      "execution_count": null,
      "outputs": [
        {
          "output_type": "stream",
          "text": [
            "[[ 140482.31578947]\n",
            " [3208721.47368421]\n",
            " [ 338749.05263158]]\n"
          ],
          "name": "stdout"
        }
      ]
    },
    {
      "cell_type": "code",
      "metadata": {
        "colab": {
          "base_uri": "https://localhost:8080/"
        },
        "id": "JhB0in343yzn",
        "outputId": "2adc4443-39ed-41ff-e90c-23dc9429e405"
      },
      "source": [
        "## Ahora los resolvemos con nuestros metodos creados\r\n",
        "\r\n",
        "A = np.array([[2,3,-1],[3,5,-6],[4,4,-3]])\r\n",
        "b= np.array([[9568380],[14432560],[12380568]])\r\n",
        "\r\n",
        "# comprobacion con  mi metodo solver\r\n",
        "x = solver(A,b)\r\n",
        "print(x)\r\n",
        "\r\n",
        "\r\n"
      ],
      "execution_count": null,
      "outputs": [
        {
          "output_type": "stream",
          "text": [
            "[[ 140482.31578947]\n",
            " [3208721.47368422]\n",
            " [ 338749.05263158]]\n"
          ],
          "name": "stdout"
        }
      ]
    },
    {
      "cell_type": "markdown",
      "metadata": {
        "id": "zyaVLI_u9r_B"
      },
      "source": [
        "$\\therefore$\r\n",
        "\r\n",
        "$A=140482.31578947$;\r\n",
        "\r\n",
        "$B=3208721.47368422$;\r\n",
        "\r\n",
        "$C=338749.05263158$\r\n",
        "\r\n",
        "\r\n",
        "La empresa esta feliz de poder saber los precios de los tipos de coches especiales que vende, ahora un encargado del departamento los capturara en una base de datos para que nunca se pierdan.\r\n",
        "\r\n",
        "Logramos gracias a factorización Q,R resolver este problema y gracias al codigo esta empresa si en un futuro pierde de nuevo los precios , entonces contara con herramientas numericas para su solución.\r\n"
      ]
    },
    {
      "cell_type": "code",
      "metadata": {
        "colab": {
          "base_uri": "https://localhost:8080/"
        },
        "id": "3NqjmeTh9VnU",
        "outputId": "67bde85a-c023-43a1-dac7-53b9425b0de2"
      },
      "source": [
        "## Ahora comprobamos que si sean los valores correctos\r\n",
        "## Es decir tienen que satisfacer el sistema de ecuaciones \r\n",
        "\r\n",
        "precio_carro_tipo_A=140482.31578947\r\n",
        "precio_carro_tipo_B=3208721.47368422\r\n",
        "precio_carro_tipo_C=338749.05263158\r\n",
        "\r\n",
        "## definimos la primer factura como:\r\n",
        "## nos tiene que dar como resultado: 9,568,380\r\n",
        "print(f'Estamos comprobando que los resultados sean correctos de la primer factura: \\n',2*precio_carro_tipo_A+3*precio_carro_tipo_B-precio_carro_tipo_C)\r\n",
        "\r\n",
        "\r\n",
        "## definimos la segunda factura como:\r\n",
        "## nos tiene que dar como resultado: 14,432,560\r\n",
        "print(f'Estamos comprobando que los resultados sean correctos de la segunda  factura: \\n',3*precio_carro_tipo_A+5*precio_carro_tipo_B-6*precio_carro_tipo_C)\r\n",
        "\r\n",
        "\r\n",
        "## definimos la primer factura como:\r\n",
        "## nos tiene que dar como resultado: 12,380,568\r\n",
        "print(f'Estamos comprobando que los resultados sean correctos de la primer factura: \\n',4*precio_carro_tipo_A+4*precio_carro_tipo_B-3*precio_carro_tipo_C)\r\n",
        "\r\n",
        "\r\n"
      ],
      "execution_count": null,
      "outputs": [
        {
          "output_type": "stream",
          "text": [
            "Estamos comprobando que los resultados sean correctos de la primer factura: \n",
            " 9568380.000000022\n",
            "Estamos comprobando que los resultados sean correctos de la segunda  factura: \n",
            " 14432560.00000003\n",
            "Estamos comprobando que los resultados sean correctos de la primer factura: \n",
            " 12380568.00000002\n"
          ],
          "name": "stdout"
        }
      ]
    },
    {
      "cell_type": "markdown",
      "metadata": {
        "id": "621Bkr5cFOef"
      },
      "source": [
        "##Minimos Cuadrados(Analisis de Publicidad)"
      ]
    },
    {
      "cell_type": "markdown",
      "metadata": {
        "id": "j9mDvF_QAxQg"
      },
      "source": [
        "**1**.Se Tomaron registro del numero de suscriptores de la pagina en Facebook los primeros  30 dias, esta información se presenta en la siguiente tabla:\r\n",
        "\r\n",
        "\r\n",
        "| Dia | 0|  1 | 2| 3 | 4 | 5 | 6| 7| 8| 9 |10|11|12|13|14|15|16|17|18|19|20|21|22|23|24|25|26|27|28|29| \r\n",
        "| :-:  | :-: | :-: |  :-: | :-: | :-:  | :-: | :-: |  :-: | :-: |  :-:  | :-: | :-: |  :-: | :-: | :-:  | :-: | :-: |  :-: | :-: |  :-:  | :-: | :-: |  :-: | :-: |  :-:  | :-: | :-: |  :-: | :-: | :-: |\r\n",
        "| Suscriptores |  400 | 430| 439 |  442 |444| 445| 447|449|451|453|458|463|456|468|470|472|477|479|491|516|521|524|526|533|541|548|555|559|561|565\r\n",
        "\r\n",
        "**NOTA:** esto tambien se puede usar  para medir que cantidad de clientes llegaron a la sucursal o la cantidad de ventas que la empresa tuvo durante los primeros 3 meses por ejemplo.\r\n",
        "\r\n",
        "\r\n",
        "Nuestra empresa \"Autos\" S.A. de C.V.  quiere saber la cantidad de suscriptores tendra para los proximos dias.\r\n",
        "\r\n"
      ]
    },
    {
      "cell_type": "markdown",
      "metadata": {
        "id": "vWFzCTQFieK1"
      },
      "source": [
        "###SOLUCION"
      ]
    },
    {
      "cell_type": "code",
      "metadata": {
        "id": "7W4NZ2DiinbI"
      },
      "source": [
        "import numpy as np\r\n",
        "from numpy.linalg import inv  ## para sacar la inversa de una matriz\r\n",
        "%matplotlib inline\r\n",
        "import matplotlib.pyplot as plt ## para graficar"
      ],
      "execution_count": null,
      "outputs": []
    },
    {
      "cell_type": "code",
      "metadata": {
        "id": "5pNjdt-Kjguu"
      },
      "source": [
        "#dias= cantidad de dias del mes\r\n",
        "#susc= cantidad de suscriptores por dia\r\n",
        "dias=list(range(0,30)) \r\n",
        "susc=[400,430,439,442,444,445,447,449,451,453,458,463,456,468,470,472,477,479,491,516,521,524,526,533,541,548,555,559,561,565]\r\n",
        "\r\n",
        "\r\n"
      ],
      "execution_count": null,
      "outputs": []
    },
    {
      "cell_type": "code",
      "metadata": {
        "colab": {
          "base_uri": "https://localhost:8080/",
          "height": 279
        },
        "id": "_CW_PZYFlCZ3",
        "outputId": "104ae68c-39bc-4acd-a314-4513b50a2f59"
      },
      "source": [
        "##Graficamos\r\n",
        "\r\n",
        "plt.scatter(dias, susc);plt.xlabel('días');plt.ylabel('Cantidad de suscriptores');"
      ],
      "execution_count": null,
      "outputs": [
        {
          "output_type": "display_data",
          "data": {
            "image/png": "[encoded data removed]",
            "text/plain": [
              "<Figure size 432x288 with 1 Axes>"
            ]
          },
          "metadata": {
            "tags": [],
            "needs_background": "light"
          }
        }
      ]
    },
    {
      "cell_type": "markdown",
      "metadata": {
        "id": "vPcRxS2smNN4"
      },
      "source": [
        "Recordando que la formula para minimizar los cuadrados es:\r\n",
        "\r\n",
        "$a= (X^TX)^{-1} X^T Y^{datos}$\r\n",
        "\r\n",
        "\r\n",
        "Tomar en cuenta que:\r\n",
        "\r\n",
        "$a[0]$: es el primer valor en cero\r\n",
        "\r\n",
        "$a[1]$: indica el valor de la pendiente de la recta i.e. es el número de suscriptores promedio durante estos 28 días"
      ]
    },
    {
      "cell_type": "code",
      "metadata": {
        "id": "svoXoavKlcti"
      },
      "source": [
        "##Creamos el modelo\r\n",
        "Modelo = np.array([np.ones(len(dias)), dias]).T\r\n",
        "a = inv(Modelo.T @ Modelo) @ Modelo.T @ susc    ### Fórmula para minimizar los cuadrados\r\n",
        "\r\n",
        "\r\n",
        "##Hacemos la prediccion\r\n",
        "dias_prediccion =np.linspace(0, 29, num=100) ## generamos numeros del 0 al 29 con 100 muestras\r\n",
        "susc_prediccion = a[0] + a[1] * dias_prediccion ### Recta\r\n",
        "\r\n",
        "\r\n"
      ],
      "execution_count": null,
      "outputs": []
    },
    {
      "cell_type": "code",
      "metadata": {
        "colab": {
          "base_uri": "https://localhost:8080/"
        },
        "id": "3HwFDBjBofkO",
        "outputId": "2670726d-9631-4d54-eb5a-47658d50411f"
      },
      "source": [
        "##PODEMOS VER LA CANTIDAD DE SUSCRIPTORES QUE TENEMOS EN PROMEDIO AL DIA\r\n",
        "\r\n",
        "print(f\"La cantidad de suscriptores promedio al dia es de:\" , a[1])"
      ],
      "execution_count": null,
      "outputs": [
        {
          "output_type": "stream",
          "text": [
            "La cantidad de suscriptores promedio al dia es de: 5.140155728587319\n"
          ],
          "name": "stdout"
        }
      ]
    },
    {
      "cell_type": "code",
      "metadata": {
        "colab": {
          "base_uri": "https://localhost:8080/",
          "height": 279
        },
        "id": "dXV_uRKkn2FZ",
        "outputId": "2b2a4314-bed4-4eb8-9fde-6c142ded089d"
      },
      "source": [
        "##Graficamos de nuevo\r\n",
        "plt.scatter(dias, susc)\r\n",
        "plt.xlabel('dias'); plt.ylabel('Suscriptores'); plt.plot(dias_prediccion,susc_prediccion, 'c');"
      ],
      "execution_count": null,
      "outputs": [
        {
          "output_type": "display_data",
          "data": {
            "image/png": "[encoded data removed]",
            "text/plain": [
              "<Figure size 432x288 with 1 Axes>"
            ]
          },
          "metadata": {
            "tags": [],
            "needs_background": "light"
          }
        }
      ]
    },
    {
      "cell_type": "code",
      "metadata": {
        "colab": {
          "base_uri": "https://localhost:8080/"
        },
        "id": "3FGXwUXvo-2w",
        "outputId": "fd022cb6-e287-4ffd-bd9d-24ea17e4aeb5"
      },
      "source": [
        "y = a[1]*(59)+a[0] ### son los 28 días(contamos desde 0) + 30 días de un mes\r\n",
        "\r\n",
        "## redondeamos la cantidad de suscriptores ya que no es posible que se hayan suscrito 59.5 de personas\r\n",
        "\r\n",
        "y_prima= f\"{y:.0f}\"\r\n",
        "\r\n",
        "print('En un mes tendré:'+ str(y_prima) + 'suscriptores.')"
      ],
      "execution_count": null,
      "outputs": [
        {
          "output_type": "stream",
          "text": [
            "En un mes tendré:715suscriptores.\n"
          ],
          "name": "stdout"
        }
      ]
    },
    {
      "cell_type": "code",
      "metadata": {
        "colab": {
          "base_uri": "https://localhost:8080/"
        },
        "id": "EYdv_hZKpx7o",
        "outputId": "3115afae-e3cc-436a-c1d1-0463a5204daf"
      },
      "source": [
        "y2 = a[1]*(365)+a[0] ## A la fecha actual  faltan 365 días para que acabe el 2021\r\n",
        "y3 = f\"{y2:.0f}\"\r\n",
        "print('Al finalizar 2021 tendré:'+ str(y3) + 'suscriptores.')"
      ],
      "execution_count": null,
      "outputs": [
        {
          "output_type": "stream",
          "text": [
            "Al finalizar 2021 tendré:2288suscriptores.\n"
          ],
          "name": "stdout"
        }
      ]
    },
    {
      "cell_type": "markdown",
      "metadata": {
        "id": "VUY1e_F7qnAy"
      },
      "source": [
        "$\\therefore$ Con esto podemos decir que aunque nuesta empresa apenas lleva un mes de tener publicidad su crecimiento no se estanca y podemos decir que el departamento de publicidad esta haciendo bien su trabajo."
      ]
    },
    {
      "cell_type": "markdown",
      "metadata": {
        "id": "kfjYEcgpRrJw"
      },
      "source": [
        "<div align=\"center\"><img src=\"https://github.com/IORIALE/RECURSOS-PROYECTO-NUMERICO/blob/main/impactoredes%20sociales.jpeg?raw=1\" width=\"500\" > "
      ]
    },
    {
      "cell_type": "markdown",
      "metadata": {
        "id": "lqPY4RzRuoNa"
      },
      "source": [
        "## ML Regresion lineal multiple(Prediccion del Precio del Inventario )\r\n",
        "\r\n",
        "Ahora la empresa no solo  quiere ajustar sus datos en base a solo recurso, la empresa  ahora quiere tener más certeza y tener mejores  aproximaciones de precios en base a más indicadores, es decir, nos estaremos basando en más datos para poder ayudar a la empresa a predecir los costos de los coches con ayuda  de una base de datos de su inventario"
      ]
    },
    {
      "cell_type": "markdown",
      "metadata": {
        "id": "CmLnGAYQeIPC"
      },
      "source": [
        "Tomar en cuenta lo siguiente:\r\n",
        "\r\n",
        "$$b=(X^T X)^{-1}X^T Y $$"
      ]
    },
    {
      "cell_type": "markdown",
      "metadata": {
        "id": "Elw6C9jHlo27"
      },
      "source": [
        "###SOLUCION "
      ]
    },
    {
      "cell_type": "code",
      "metadata": {
        "colab": {
          "base_uri": "https://localhost:8080/",
          "height": 248
        },
        "id": "2Qz4dcWevxjY",
        "outputId": "64d6f234-4f70-4935-c12a-c13ae5b14100"
      },
      "source": [
        "import numpy as np\r\n",
        "import pandas as pd  ## similar a los dataframe en R\r\n",
        "import matplotlib.pyplot as plt\r\n",
        "from matplotlib import cm, style ## para darle formato a nuestro plano generado\r\n",
        "from mpl_toolkits.mplot3d import Axes3D ##Graficar en 3D\r\n",
        "style.use('dark_background')\r\n",
        "\r\n",
        "## Inventario ficticio de la empresa\r\n",
        "url='https://raw.githubusercontent.com/IORIALE/RECURSOS-PROYECTO-NUMERICO/main/carrosprecio.csv'\r\n",
        "\r\n",
        "## asi podemos exportar el archivo que se encuentra en mi github\r\n",
        "DF = pd.read_csv(url)\r\n",
        "\r\n",
        "## definimos dos variables que son las columnas de Rueda, caballos de fuerza (X1,X2)\r\n",
        "## Definimos una tercer variable que sera Y=Columna de datos del Precio\r\n",
        "X1, X2, Y = DF['Rueda'], DF['caballosf'], DF['Precio']\r\n",
        "\r\n",
        "## La definicion de regresion lineal multiple nos dice que llenemos la primer columna de 1\r\n",
        "# por eso ocupamos np.ones(tamaño de X1) \r\n",
        "## Despues sacamos la transpuesta para que ahora queden como columnas\r\n",
        "X = np.transpose([np.ones(len(X1)), X1, X2])\r\n",
        "# De igual manera sacamos la transpuesta de Y\r\n",
        "Y = np.transpose(Y)\r\n",
        "\r\n",
        "##Hacemos la multiplicacion de  W*P donde:\r\n",
        "# W:la multiplicacion de la transpuesta de X por X y a eso sacarle la inversa\r\n",
        "#P:la multiplicacion de la transpuesta de X por Y\r\n",
        "## RECORDAMOS LA NOTA ANTERIOR:\r\n",
        "B = np.matmul(np.linalg.inv(np.matmul(np.transpose(X), X)), np.matmul(np.transpose(X), Y))\r\n",
        "##B son los 3 coeficientes de nuestro plano de regresion \r\n",
        "#Print(B)\r\n",
        "\r\n",
        "## creamos nuestras variables para nuestro plano\r\n",
        "## le damos el intervalo de nuestros datos donode queremos que empiecen en el dato mas pequeño y el dato\r\n",
        "## mas grande  por eso usamos min y max \r\n",
        "x, y = np.meshgrid(np.linspace(min(X1), max(X1), 10), np.linspace(min(X2), max(X2), 10))\r\n",
        "\r\n",
        "Plano = B[0] + B[1]*x + B[2]*y ## construimos nuestro plano\r\n",
        " \r\n",
        "fig = plt.figure() ## esto es simplemente para graficar datos en 3 dimensiones\r\n",
        "ax = plt.axes(projection='3d')\r\n",
        "ax.scatter3D(X1, X2, Y, color='gold') ## graficando nuestros datos \r\n",
        "\r\n",
        "ax.plot_surface(x, y, Plano,alpha=0.75,cmap=cm.pink) ## le damos formato a nuestro plano\r\n",
        "plt.show()"
      ],
      "execution_count": null,
      "outputs": [
        {
          "output_type": "display_data",
          "data": {
            "image/png": "[encoded data removed]",
            "text/plain": [
              "<Figure size 432x288 with 1 Axes>"
            ]
          },
          "metadata": {
            "tags": []
          }
        }
      ]
    },
    {
      "cell_type": "markdown",
      "metadata": {
        "id": "uIcSchoygYX8"
      },
      "source": [
        "TOMAR EN CUENTA QUE ES PRACTICAMENTE LO MISMO PERO AHORA ESTAMOS TOMANDO MEJOR PRECISION DE LOS DATOS  Y ME REFIERO A QUE ES LO MISMO YA QUE NOSOTROS LE PODEMOS DAR UN  PAR DE DATOS Y NOS DEVUELVE NUESTRA PREDICCION PERO AHORA UN POCO MÁS EXACTA."
      ]
    },
    {
      "cell_type": "code",
      "metadata": {
        "colab": {
          "base_uri": "https://localhost:8080/"
        },
        "id": "inp_25VNh3ML",
        "outputId": "70ad6786-ac1d-434e-8bd3-908d7420f44f"
      },
      "source": [
        "import sklearn\r\n",
        "from sklearn import linear_model, preprocessing\r\n",
        "\r\n",
        "url='https://raw.githubusercontent.com/IORIALE/RECURSOS-PROYECTO-NUMERICO/main/carrosprecio.csv'\r\n",
        "\r\n",
        "## Data frames de mi base de datos\r\n",
        "DFr = pd.read_csv(url)\r\n",
        "X = np.array(DFr[['Rueda', 'caballosf', 'mpgciudad', 'tamanomotor']])\r\n",
        "Y = np.array(DFr['Precio'])\r\n",
        " \r\n",
        "X_Entrenar, X_Prueba, Y_Entrenar, Y_Prueba = sklearn.model_selection.train_test_split(X, Y, test_size=0.1)\r\n",
        "LinearModel = linear_model.LinearRegression()\r\n",
        "LinearModel.fit(X_Entrenar, Y_Entrenar) ## Entrenamos los datos \r\n",
        "Grado_de_Bien_de_Nuestro_Modelo = LinearModel.score(X_Prueba, Y_Prueba)\r\n",
        "print(f\"El grado con la cual esta acertando los datos correctamente es:\",Grado_de_Bien_de_Nuestro_Modelo)\r\n",
        " \r\n",
        "##EJEMPLO DE PREDECIR EL PRIMER PRECIO, LE ESTAMOS PASANDO LOS PARAMETROS\r\n",
        "##RUEDA(rueda), CABALLOS DE FUERZA (caballosf)\r\n",
        "## Millas por galon en la ciudad(mpgciudad), tamaño del motor(tamanomotor)\r\n",
        "## Segun mi inventario me tiene que devolver maso menos 13495 o un aproximado\r\n",
        "\r\n",
        "## Ejemplo \r\n",
        "R = LinearModel.predict([[88.6, 111, 21, 130]])\r\n",
        "print(f\"El precio que le recomedaria dar en base a los datos que me dio es : \\n\",R)"
      ],
      "execution_count": null,
      "outputs": [
        {
          "output_type": "stream",
          "text": [
            "El grado con la cual esta acertando los datos correctamente es: 0.9230647156192601\n",
            "El precio que le recomedaria dar en base a los datos que me dio es : \n",
            " [13127.87560929]\n"
          ],
          "name": "stdout"
        }
      ]
    },
    {
      "cell_type": "markdown",
      "metadata": {
        "id": "1Nm63hIjuzHt"
      },
      "source": [
        "En este ultimo modelo podemos cambiar los parametros de nuestro modelo para predecir el precio de nuestro coche de acuerdo a las caracteristicas dadas, por ejemplo los caballos de fuerza, los mpg de la ciudad,Tipo de Rueda, el tamaño del motor,etc. \r\n",
        "\r\n",
        "Esto resulta ser muy util ya que si nuestra empresa llega a peder  los datos  de alguna de estas columnas  o quiere agregar más datos a su base de datos y no esta muy seguro que precio dar, este modelo le ayudara al jefe a gestionar mejor los precios de sus coches y poder recuperar información perdida o por lo menos tener una buena aproximación"
      ]
    },
    {
      "cell_type": "markdown",
      "metadata": {
        "id": "RQpTK1v0yBWR"
      },
      "source": [
        "$EXPLICACION\\quad DEL \\quad EJEMPLO $\r\n",
        "\r\n",
        "Primero tenemos que:\r\n",
        "\r\n",
        "X = np.array(DFr[['Rueda', 'caballosf', 'mpgciudad', 'tamanomotor']])\r\n",
        "Y = np.array(DFr['Precio'])\r\n",
        "\r\n",
        "Osea que  gracias a los parametros de Rueda,caballosf,mpgciudad,tamanomotor  nos va a dar una prediccion del precio.\r\n",
        "\r\n",
        "Y en  el ejemplo que pusismos para que nos diera una prediccion del precio  fueron los siguientes: \r\n",
        "\r\n",
        "los datos que pusimos fue:\r\n",
        "\r\n",
        "Rueda:$88.6$\r\n",
        "\r\n",
        "Caballosf: $111$\r\n",
        "\r\n",
        "mpgciudad: $21$\r\n",
        "\r\n",
        "tamanomotor: $130$\r\n",
        "\r\n",
        "Esos datos los sacamos de mi base de datos que se encuetra en mi github (carrosprecio.csv), agarramos la primer fila para los datos y se supone que nuestro modelo nos tiene que dar de precio (de acuerdo a la tabla):\r\n",
        "\r\n",
        "Precio: $13495$\r\n",
        "\r\n",
        "y si corremos nuestro modelo pues vemos que si se aproxima bastante bien, todo  depende tambien del  grado de nuestro modelo."
      ]
    },
    {
      "cell_type": "markdown",
      "metadata": {
        "id": "qbNpHFw-0ACA"
      },
      "source": [
        "<div align=\"center\"><img src=\"https://github.com/IORIALE/RECURSOS-PROYECTO-NUMERICO/blob/main/prediccionprecio.png?raw=1\" width=\"800\" > \r\n"
      ]
    },
    {
      "cell_type": "markdown",
      "metadata": {
        "id": "2lkIowTJ9h8V"
      },
      "source": [
        "##Metodo Simplex(Reducir gastos y maximizar ganancias)"
      ]
    },
    {
      "cell_type": "markdown",
      "metadata": {
        "id": "cYphC4l_K_VG"
      },
      "source": [
        "Esto lo haremos con ayuda del metodo simplex y con el esquema de gastos que tiene la empresa.\r\n",
        "\r\n",
        "La empresa quiere maximizar sus Ingresos Netos que se ve reflejado mediante la siguiente funcion:\r\n",
        "\r\n",
        "$$w= X+ V-Y-R-S-G.....(INGRESOS \\quad NETOS)$$\r\n",
        "\r\n",
        "Y la empresa quiere tener el siguiente esquema de trabajo:\r\n",
        "\r\n",
        "$$X-3S-2Y-5R =  $150,000$$\r\n",
        "$$X+2V-2Y-3R-G\\geq  $100,000$$\r\n",
        "$$X-V-2S \\geq $75,000 $$\r\n",
        "$$ 3S + Y + R  +G  \\leq $50,000$$\r\n",
        "$$X-3V \\geq $30,000 $$\r\n",
        "$$X,V,S,Y,R,G \\geq 0$$\r\n",
        "\r\n",
        "donde :\r\n",
        "\r\n",
        "$X: Ingresos$\r\n",
        "\r\n",
        "$V:Ventas$\r\n",
        "\r\n",
        "$Y:Gastos \\quad de \\quad publicidad$\r\n",
        "\r\n",
        "$R:Gastos \\quad  por  \\quad servicios$\r\n",
        "\r\n",
        "$S:Sueldos \\quad de \\quad empleados$\r\n",
        "\r\n",
        "$G: Gastos \\quad de \\quad reparacion$"
      ]
    },
    {
      "cell_type": "markdown",
      "metadata": {
        "id": "oMFDUcWZLFac"
      },
      "source": [
        "###SOLUCION"
      ]
    },
    {
      "cell_type": "markdown",
      "metadata": {
        "id": "hurK6Nke6ezY"
      },
      "source": [
        "Bueno, lo que queremos es que se cumplan todas las restricciones dadas por la empresa y que se maximize w que es la funcion que modela los ingresos netos.\r\n",
        "\r\n",
        "Primero, para poder ocupar python, debemos ver que todas nuestras desigualdades sean $\\leq$ .\r\n",
        "\r\n",
        "Por eso cambiamos las que se observan que son mayores o iguales por menores iguales, multiplicando por un -1.\r\n",
        "\r\n",
        "Entonces nos queda:\r\n",
        "\r\n",
        "$$X-3S-2Y-5R =  $150,000$$\r\n",
        "$$-X-2V+2Y+3R+G\\leq  -$100,000$$\r\n",
        "$$-X+V+2S \\leq -$75,000 $$\r\n",
        "$$ 3S + Y + R  +G  \\leq $50,000$$\r\n",
        "$$-X+3V \\leq -$30,000 $$\r\n",
        "$$X,V,S,Y,R,G \\geq 0$$"
      ]
    },
    {
      "cell_type": "code",
      "metadata": {
        "colab": {
          "base_uri": "https://localhost:8080/"
        },
        "id": "o-cilEX55UAj",
        "outputId": "ec48c513-986d-4d30-823b-32c4fdc714e4"
      },
      "source": [
        "from scipy.optimize  import linprog\r\n",
        "\r\n",
        "## creamos nuestra lista de los coeficientes de nuestra función que queremos\r\n",
        "#maximizar, es decir los coeficientes de nuestra funcion w \r\n",
        "c=[1,1,-1,-1,-1,-1]\r\n",
        "\r\n",
        "## creamos  nuestra matriz de los coeficientes de todas las desigualdades\r\n",
        "## tener en cuenta que el orden de nuestro sistema es:\r\n",
        "## X,V,S,Y,R,G\r\n",
        "## LAS LETRAS QUE NO APARECEN LAS PONDREMOS CON COEFICIENTE CERO\r\n",
        "\r\n",
        "## ENTONCES CAPTURAMOS LOS DATOS DE NUESTRAS RESTRICCIONES O NUESTRO ESQUEMA DE TRABAJO\r\n",
        "A_ub=[[-1,-2,0,2,3,1],[-1,1,2,0,0,0],[0,0,2,1,1,1],[-1,3,0,0,0,0]]\r\n",
        "\r\n",
        "## Ahora capturamos los valores por los cuales estan acotados, es decir:\r\n",
        "\r\n",
        "b_ub=[-100000,-75000,50000,-30000]\r\n",
        "\r\n",
        "## ya que tenemos esto, ahora capturamos los coeficientes de nuestra igualdad en nuestro sistema\r\n",
        "A_igualdad=[[1,0,-3,-2,-5,0]]\r\n",
        "b_igualdad=[150000]\r\n",
        "\r\n",
        "##creamos nuestra variable donde guardaremos nuestro valor optimo\r\n",
        "##el parametro bounds es cuando definimos que todas nuestras variables que rango tienen\r\n",
        "## en este caso la empresa quiere que sean mayores iguales a cero entonces le ponemos bound=(0,None)\r\n",
        "optimo=linprog(c,A_ub,b_ub,A_igualdad,b_igualdad,bounds=(0,None))\r\n",
        "print(f'El valor optimo es:', optimo.fun, '\\n  X,V,S,Y,R,G=',optimo.x)\r\n",
        "\r\n"
      ],
      "execution_count": null,
      "outputs": [
        {
          "output_type": "stream",
          "text": [
            "El valor optimo es: 100000.0000006223 \n",
            "  X,V,S,Y,R,G= [1.50000000e+05 6.34789660e-09 9.23366831e-08 1.86919882e-07\n",
            " 8.57659982e-08 5.00000000e+04]\n"
          ],
          "name": "stdout"
        },
        {
          "output_type": "stream",
          "text": [
            "/usr/local/lib/python3.6/dist-packages/numpy/core/fromnumeric.py:87: VisibleDeprecationWarning: Creating an ndarray from ragged nested sequences (which is a list-or-tuple of lists-or-tuples-or ndarrays with different lengths or shapes) is deprecated. If you meant to do this, you must specify 'dtype=object' when creating the ndarray\n",
            "  return ufunc.reduce(obj, axis, dtype, out, **passkwargs)\n"
          ],
          "name": "stderr"
        }
      ]
    },
    {
      "cell_type": "code",
      "metadata": {
        "colab": {
          "base_uri": "https://localhost:8080/"
        },
        "id": "uirY_TeNCK7G",
        "outputId": "e84e7cfe-2106-4a22-d2e1-260e35a9a39d"
      },
      "source": [
        "## comprobamos que estos valores evaluados en la funcion w si nos de como resultado\r\n",
        "# nuestro valor optimo que es :100000.00000062231\r\n",
        "import matplotlib.pyplot as plt\r\n",
        "\r\n",
        "def w(x,v,y,r,s,g):\r\n",
        "   evaluar=x + v - y - r - s - g\r\n",
        "   return print(f'La funcion evaluada en estos puntos es:', evaluar)\r\n",
        "\r\n",
        "w(1.50000000e+05,6.34848438e-09,9.23429152e-08,1.86928453e-07,8.57701413e-08,5.00000000e+04)\r\n",
        "\r\n"
      ],
      "execution_count": null,
      "outputs": [
        {
          "output_type": "stream",
          "text": [
            "La funcion evaluada en estos puntos es: 99999.9999996413\n"
          ],
          "name": "stdout"
        }
      ]
    },
    {
      "cell_type": "markdown",
      "metadata": {
        "id": "ASVf2OLyAeXV"
      },
      "source": [
        "Lo que vemos es que  la empresa maximiza sus ganancias netas y con el sistema de  restricciones propuestas  cuando :\r\n",
        "\r\n",
        "$X=1.50000000e+05$\r\n",
        "\r\n",
        "$V=6.34848438e-09$\r\n",
        "\r\n",
        "$S=9.23429152e-08$\r\n",
        "\r\n",
        "$Y=1.86928453e-07$\r\n",
        "\r\n",
        "$R=8.57701413e-08$\r\n",
        "\r\n",
        "$G=5.00000000e+04$\r\n",
        "\r\n",
        "\r\n",
        "Si esto pasa entonces tenemos que:\r\n",
        "\r\n",
        "$$w= 100000.00000062231 $$\r\n",
        "\r\n",
        "\r\n",
        "Es decir que con estos valores la empresa cumple con cada una de las restricciones(desigualdes y la igualdad) y aparte es la que maximiza la función w que son nuestras ganancias netas.\r\n",
        "\r\n",
        "Para una empresa que apenas esta saliendo a flote y tengas estas metas es muy dificil pero podemos decir que se puede modificar el esquema de trabajo y las metas de la empresa para hacer que los numeros no sean tan elevados y seria aplicar el mismo proceso anterior.\r\n",
        "\r\n"
      ]
    },
    {
      "cell_type": "markdown",
      "metadata": {
        "id": "LgvC0DkISr-t"
      },
      "source": [
        "<div align=\"center\"><img src=\"https://github.com/IORIALE/RECURSOS-PROYECTO-NUMERICO/blob/main/reduccion-costos.jpeg?raw=1\" width=\"500\" > "
      ]
    },
    {
      "cell_type": "markdown",
      "metadata": {
        "id": "fG6SThz7Oldy"
      },
      "source": [
        "##PROBLEMA DE TRANSPORTE\r\n"
      ]
    },
    {
      "cell_type": "markdown",
      "metadata": {
        "id": "SfWUNJMKUnTH"
      },
      "source": [
        "\r\n",
        "\r\n",
        "\"Autos S.A de C.V.\"  cuenta con tres plantas en Los Ángeles, Detroit y Nueva Orleáns, y dos importantes\r\n",
        "centros de distribución en Denver y Miami. Las capacidades trimestrales de las tres plantas son\r\n",
        "1000, 1500 y 1200 automóviles, y las demandas de los dos centros de distribución durante el mismo periodo son de 2300 y 1400 automóviles. La distancia en millas entre las plantas y los centros de distribución aparece en la siguiente tabla.\r\n",
        "\r\n",
        "$$Distancia \\quad en \\quad millas$$\r\n",
        "\r\n",
        "|  | Denver |  Miami| \r\n",
        "| :-:  | :-: | :-: | \r\n",
        "| Los Angeles  | 1000 |2690 |\r\n",
        "| Detroit  | 1250 | 1350 |\r\n",
        "| Nueva Orleans  | 1275 | 850 |\r\n",
        "\r\n",
        "\r\n",
        "La compañía transportista cobra 8 centavos por milla por automóvil. En la tabla 2  se dan\r\n",
        "los costos de transporte por automóvil en las diferentes rutas, redondeados al dólar más cercano.\r\n",
        "\r\n",
        "$$Costo\\quad transporte\\quad por\\quad automovil$$\r\n",
        "\r\n",
        "|  | Denver(1) |  Miami(2)| \r\n",
        "| :-:  | :-: | :-: | \r\n",
        "| Los Angeles(1)  | \\$80 | \\$215 |\r\n",
        "| Detroit(2)  | \\$100 | \\$108 |\r\n",
        "| Nueva Orleans(3)  | \\$102| \\$68 |"
      ]
    },
    {
      "cell_type": "markdown",
      "metadata": {
        "id": "oeDVxzcCS2lp"
      },
      "source": [
        "El modelo de PL del problema es\r\n",
        "\r\n",
        "$$Min \\quad z = 80 x_{11}+ 215x_{12}+100x_{21}+108x_{22}+102x_{31}+68x_{32}$$\r\n",
        "\r\n",
        "sujeto a:\r\n",
        "\r\n",
        "$$ x_{11}+x_{12}=1000(Los\\quad Angeles)$$\r\n",
        "$$x_{21}+x_{22}=1500(Detroit)$$\r\n",
        "$$x_{31}+x_{32}=1200(Nueva\\quad Orleans)$$\r\n",
        "$$x_{11}+x_{21}+x_{31}=2300(Denver)$$\r\n",
        "$$x_{12}+x_{22}+x_{32}=1400(Miami)$$\r\n",
        "\r\n",
        "$x_{ij} \\geq 0, i=1,2,3; j=1,2$\r\n"
      ]
    },
    {
      "cell_type": "markdown",
      "metadata": {
        "id": "HYJR_JGJVB7o"
      },
      "source": [
        "<div align=\"center\"><img src=\"https://github.com/IORIALE/RECURSOS-IDO/blob/main/ejemplotransporteido.png?raw=1\" width=\"400\" > "
      ]
    },
    {
      "cell_type": "markdown",
      "metadata": {
        "id": "hH60Tul2VNii"
      },
      "source": [
        "Donde podemos observar que esta balanceada, que quiere decir que:\r\n",
        "\r\n",
        "Sumando del lado de la OFERTA:\r\n",
        "\r\n",
        "$$1000+1500+1200=3700$$\r\n",
        "\r\n",
        "Sumando del lado de la DEMANDA:\r\n",
        "\r\n",
        "$$2300+1400=3700$$\r\n",
        "\r\n",
        "\r\n",
        "Es decir, suman lo mismo."
      ]
    },
    {
      "cell_type": "markdown",
      "metadata": {
        "id": "o8NEv8rGWkqB"
      },
      "source": [
        "###SOLUCION"
      ]
    },
    {
      "cell_type": "code",
      "metadata": {
        "colab": {
          "base_uri": "https://localhost:8080/"
        },
        "id": "lNvcEW4CWoJP",
        "outputId": "07cb4aba-2364-4ecf-925f-d9590371403c"
      },
      "source": [
        "!pip install pulp  ## Esta es la biblioteca que se utiliza"
      ],
      "execution_count": null,
      "outputs": [
        {
          "output_type": "stream",
          "text": [
            "Requirement already satisfied: pulp in /usr/local/lib/python3.6/dist-packages (2.4)\n",
            "Requirement already satisfied: amply>=0.1.2 in /usr/local/lib/python3.6/dist-packages (from pulp) (0.1.4)\n",
            "Requirement already satisfied: pyparsing in /usr/local/lib/python3.6/dist-packages (from amply>=0.1.2->pulp) (2.4.7)\n",
            "Requirement already satisfied: docutils>=0.3 in /usr/local/lib/python3.6/dist-packages (from amply>=0.1.2->pulp) (0.16)\n"
          ],
          "name": "stdout"
        }
      ]
    },
    {
      "cell_type": "code",
      "metadata": {
        "id": "-D98YjKyWtAS"
      },
      "source": [
        "import pandas as np\r\n",
        "from pulp import *\r\n",
        "from pandas import DataFrame"
      ],
      "execution_count": null,
      "outputs": []
    },
    {
      "cell_type": "code",
      "metadata": {
        "id": "pHzv8PaVWyaX"
      },
      "source": [
        "## CAPTURAMOS LOS DATOS DEL PROBLEMA\r\n",
        "origen = ['LA','Detroit','New Orleans']\r\n",
        "destino = ['Denver','Miami']\r\n",
        "\r\n",
        "oferta = {'LA': 1000, 'Detroit' : 1500, 'New Orleans': 1200}\r\n",
        "demanda = {'Denver': 2300, 'Miami' : 1400}\r\n",
        "\r\n",
        "costo_envio ={'LA':{'Denver': 80, 'Miami' : 215},\r\n",
        "             'Detroit':{'Denver': 100, 'Miami' : 108},\r\n",
        "             'New Orleans': {'Denver': 102, 'Miami' : 68}}"
      ],
      "execution_count": null,
      "outputs": []
    },
    {
      "cell_type": "code",
      "metadata": {
        "id": "mr7uAj3hXEAu"
      },
      "source": [
        "##RESOLVEMOS EL PROBLEMA\r\n",
        "\r\n",
        "### Declaramos la función objetivo\r\n",
        "## buscamos minimizar el costo(LpMinimize)\r\n",
        "\r\n",
        "prob = LpProblem('Transporte', LpMinimize)\r\n",
        "\r\n",
        "## Trazamos nuestras rutas para cada origen-destino\r\n",
        "\r\n",
        "rutas = [(i,j) for i in origen for j in destino]\r\n",
        "\r\n",
        "##definimos la cantidad de envio del origen al destino\r\n",
        "\r\n",
        "cantidad = LpVariable.dicts('Cantidad de Envio',(origen,destino),0)\r\n",
        "\r\n",
        "## vamos a multiplicar la catidad ij de coches por el costo de envio\r\n",
        "# desde el origen i al destino j \r\n",
        "\r\n",
        "prob += lpSum(cantidad[i][j]*costo_envio[i][j] for (i,j) in rutas)\r\n",
        "\r\n"
      ],
      "execution_count": null,
      "outputs": []
    },
    {
      "cell_type": "code",
      "metadata": {
        "id": "w-dTpE-HX9Bl"
      },
      "source": [
        "## Ponemos las restricciones\r\n",
        "\r\n",
        "## primero queremos que la demanda se satisfaga\r\n",
        "for j in destino:\r\n",
        "    prob += lpSum(cantidad[i][j] for i in origen) == demanda[j]\r\n",
        "\r\n",
        "##Por otro lado queremos que la oferta se satisfaga\r\n",
        "\r\n",
        "for i in origen:\r\n",
        "    prob += lpSum(cantidad[i][j] for j in destino) <= oferta[i]"
      ],
      "execution_count": null,
      "outputs": []
    },
    {
      "cell_type": "code",
      "metadata": {
        "colab": {
          "base_uri": "https://localhost:8080/"
        },
        "id": "3YiZHr3mYSGq",
        "outputId": "dee19abc-d2b4-440b-dffe-ce750f30bae9"
      },
      "source": [
        "##Resolvemos  con solve e imprimimos el estatus\r\n",
        "## si el estatus es optimo entonces si tiene solución\r\n",
        "prob.solve()\r\n",
        "print(\"Status:\", LpStatus[prob.status])\r\n",
        "\r\n"
      ],
      "execution_count": null,
      "outputs": [
        {
          "output_type": "stream",
          "text": [
            "Status: Optimal\n"
          ],
          "name": "stdout"
        }
      ]
    },
    {
      "cell_type": "code",
      "metadata": {
        "colab": {
          "base_uri": "https://localhost:8080/"
        },
        "id": "lG-Cmbx-YkbU",
        "outputId": "f5bb2065-ee06-4ffb-9ed5-527cb307d800"
      },
      "source": [
        "## Imprimimos la Solución\r\n",
        "### Imprimimos la solución\r\n",
        "for v in prob.variables():\r\n",
        "    if v.varValue > 0:\r\n",
        "        print(v.name, \"=\", v.varValue)\r\n",
        "print('El costo mínimo es:', value(prob.objective))"
      ],
      "execution_count": null,
      "outputs": [
        {
          "output_type": "stream",
          "text": [
            "Cantidad_de_Envio_Detroit_Denver = 1300.0\n",
            "Cantidad_de_Envio_Detroit_Miami = 200.0\n",
            "Cantidad_de_Envio_LA_Denver = 1000.0\n",
            "Cantidad_de_Envio_New_Orleans_Miami = 1200.0\n",
            "El costo mínimo es: 313200.0\n"
          ],
          "name": "stdout"
        }
      ]
    },
    {
      "cell_type": "markdown",
      "metadata": {
        "id": "6a--IBNpYvkF"
      },
      "source": [
        "$\\therefore$\r\n",
        "\r\n",
        "Cantidad de Envio de Detroit a Denver = 1300.0\r\n",
        "\r\n",
        "Cantidad de Envio de Detroit a Miami = 200.0\r\n",
        "\r\n",
        "Cantidad de Envio de LA a Denver = 1000.0\r\n",
        "\r\n",
        "Cantidad de Envio New Orleans a Miami = 1200.0\r\n",
        "\r\n",
        "**El costo mínimo es: 313200.0**"
      ]
    },
    {
      "cell_type": "markdown",
      "metadata": {
        "id": "4YmRU40xMlNw"
      },
      "source": [
        "# RESULTADOS"
      ]
    },
    {
      "cell_type": "markdown",
      "metadata": {
        "id": "ngp4znBTMo7S"
      },
      "source": [
        "Con estos analisis de información podemos darnos cuenta que la empresa tiene gran vision y objetivo  pero gracias a nuestras herramientas sera mucho más facil plantearse objetivos y metas.\r\n",
        "\r\n",
        "Por otro lado tenemos que aun se pueden hacer analisis por la parte economica-administrativa  y eso lograria que nuestro analisis sea más robusto.\r\n",
        "\r\n",
        "Al final esto les va ayudar a la empresa a:\r\n",
        "\r\n",
        "$\\cdot$ **Recuperar información perdida**\r\n",
        "\r\n",
        "$\\cdot$ **Analisis de publicidad y clientela**\r\n",
        "\r\n",
        "$\\cdot$ **Predecir precios de sus productos con un analisis multivariado**\r\n",
        "\r\n",
        "$\\cdot$ **Maximizar sus ganancias con un buen esquema de metas o de trabajo**\r\n",
        "\r\n",
        "\r\n",
        "Al final nuestro objetivo principal era ver y analizar la situación de la empresa con ayuda de nuestros propios metodos y podemos decir que logramos hacerlo de buena manera.\r\n",
        "\r\n",
        "Este analisis  se puede implementar en cualquier micro-macro empresa que desee crecer  y en especial en tiempos de pandemia."
      ]
    },
    {
      "cell_type": "markdown",
      "metadata": {
        "id": "x8rxrNWVTGkD"
      },
      "source": [
        "<div align=\"center\"><img src=\"https://github.com/IORIALE/RECURSOS-PROYECTO-NUMERICO/blob/main/buen%20analisis.png?raw=1\" width=\"300\" > "
      ]
    },
    {
      "cell_type": "markdown",
      "metadata": {
        "id": "jIHUk1jVTV93"
      },
      "source": [
        "Esperemos fielmente  que la empresa tome sus respectivas consideraciones para mejorar la calidad, establecer nuevas metas y objetivos en base a este  analisis.\r\n",
        "\r\n"
      ]
    },
    {
      "cell_type": "markdown",
      "metadata": {
        "id": "DovZ9DCdTxOu"
      },
      "source": [
        "<div align=\"center\"><img src=\"https://github.com/IORIALE/RECURSOS-PROYECTO-NUMERICO/blob/main/empresasquebrando.jpeg?raw=1\" width=\"450\" > "
      ]
    },
    {
      "cell_type": "markdown",
      "metadata": {
        "id": "Jbfn1sa0abpW"
      },
      "source": [
        "Tambien al final del dia me siento feliz con este proyecto porque pude  hacer uso de todos mis conocimientos adquiridos  y mezclarlos en un buen proyecto"
      ]
    },
    {
      "cell_type": "markdown",
      "metadata": {
        "id": "L4n3Mci6UWIq"
      },
      "source": [
        "#PAGINAS SUGERIDAS\r\n",
        "\r\n",
        "Es de donde se sacaron las imagenes y alguna información"
      ]
    },
    {
      "cell_type": "markdown",
      "metadata": {
        "id": "rhd11lsgUcFZ"
      },
      "source": [
        "https://github.com/IORIALE/RECURSOS-PROYECTO-NUMERICO\r\n",
        "\r\n",
        "http://www.phpsimplex.com/teoria_metodo_simplex.htm\r\n",
        "\r\n"
      ]
    }
  ]
}